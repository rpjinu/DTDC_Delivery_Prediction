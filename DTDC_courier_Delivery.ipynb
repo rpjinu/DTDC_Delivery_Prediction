{
  "nbformat": 4,
  "nbformat_minor": 0,
  "metadata": {
    "colab": {
      "provenance": []
    },
    "kernelspec": {
      "name": "python3",
      "display_name": "Python 3"
    },
    "language_info": {
      "name": "python"
    }
  },
  "cells": [
    {
      "cell_type": "code",
      "execution_count": 33,
      "metadata": {
        "id": "ESR1N5kmqukQ"
      },
      "outputs": [],
      "source": [
        "import pandas as pd\n",
        "import numpy as np\n",
        "import matplotlib.pyplot as plt\n",
        "import seaborn as sns\n",
        "from sklearn.preprocessing import LabelEncoder\n",
        "from sklearn.model_selection import train_test_split\n",
        "from sklearn.tree import DecisionTreeClassifier\n",
        "from sklearn.model_selection import train_test_split\n",
        "from sklearn.preprocessing import LabelEncoder\n",
        "from sklearn.metrics import accuracy_score\n",
        "from sklearn.ensemble import RandomForestClassifier\n",
        "from sklearn.tree import DecisionTreeClassifier\n",
        "from sklearn.linear_model import LogisticRegression\n",
        "from sklearn.naive_bayes import GaussianNB\n",
        "from sklearn.neighbors import KNeighborsClassifier\n",
        "from sklearn.svm import SVC\n",
        "from sklearn.metrics import accuracy_score, classification_report, confusion_matrix\n",
        "#warning\n",
        "import warnings\n",
        "warnings.filterwarnings('ignore')"
      ]
    },
    {
      "cell_type": "markdown",
      "source": [
        "#***LOad the dataset:-***"
      ],
      "metadata": {
        "id": "JbyarKoHrLW8"
      }
    },
    {
      "cell_type": "code",
      "source": [
        "df=pd.read_csv('/content/Dataset_Generator_for_DTDC.csv')"
      ],
      "metadata": {
        "id": "x9zRqkX-qwrY"
      },
      "execution_count": 16,
      "outputs": []
    },
    {
      "cell_type": "code",
      "source": [
        "df.head()"
      ],
      "metadata": {
        "colab": {
          "base_uri": "https://localhost:8080/",
          "height": 724
        },
        "id": "PVNH9-fxqwu2",
        "outputId": "a5f0e0a5-7fb1-42a6-a0d8-907a3b70504c"
      },
      "execution_count": 17,
      "outputs": [
        {
          "output_type": "execute_result",
          "data": {
            "text/plain": [
              "       Origin  Destination                              Pouch No        Date  \\\n",
              "0      Nagpur   Jamshedpur  55e275ad-8da9-49c9-986c-93134fef2c19  2025-06-25   \n",
              "1      Jaipur        Vizag  7fab4175-11b2-4090-a0ed-4571ccd68878  2025-06-27   \n",
              "2     Lucknow  Bhubaneswar  5231428d-b524-433e-8043-45c7e39a94aa  2025-06-27   \n",
              "3  Coimbatore       Mumbai  2f556b38-298d-4e8c-9310-4e6a3a5fbe61  2025-06-11   \n",
              "4      Meerut   Vijayawada  c3154041-34eb-435e-94d8-0900e6a9ed01  2025-07-01   \n",
              "\n",
              "      Sender's Name  Sender Phone  \\\n",
              "0    Megha Majumdar    6137840452   \n",
              "1       Nanda-Saraf      52907142   \n",
              "2    Contractor LLC    5081512738   \n",
              "3      Krishna Hans    1518559754   \n",
              "4  Kuruvilla-Tiwari    1666398391   \n",
              "\n",
              "                                      Sender Address Sender City  \\\n",
              "0  H.No. 425 Varughese Chowk, Above Shop, Nagpur,...      Nagpur   \n",
              "1  48/880, Tripathi, Above Shop, Jaipur, Rajastha...      Jaipur   \n",
              "2  257, Kulkarni Path, Above Shop, Lucknow, Uttar...     Lucknow   \n",
              "3  83/17 Sridhar Zila, Above Shop, Coimbatore, Ta...  Coimbatore   \n",
              "4  16/64 Jayaraman Circle, Above Shop, Meerut, Ut...      Meerut   \n",
              "\n",
              "    Sender State  Sender Pincode  ... Company Stamp  Receiver Signature  \\\n",
              "0    Maharashtra          264582  ...           NaN                 NaN   \n",
              "1      Rajasthan          200155  ...           NaN                 NaN   \n",
              "2  Uttar Pradesh          353311  ...           NaN                 NaN   \n",
              "3     Tamil Nadu          553663  ...           NaN                 NaN   \n",
              "4  Uttar Pradesh          273143  ...           NaN                 NaN   \n",
              "\n",
              "   Receive Date   Tariff  VAS Charges Total Amount     Mode Risk Surcharge  \\\n",
              "0    2025-06-30   147.22        70.09       217.31  Express        Carrier   \n",
              "1    2025-06-28   256.83        82.20       339.03  Surface        Carrier   \n",
              "2    2025-06-28   432.45       107.63       540.08  Surface        Carrier   \n",
              "3    2025-06-15  1162.00        25.23      1187.23  Express        Carrier   \n",
              "4    2025-07-05   285.55        67.70       353.25  Surface        Carrier   \n",
              "\n",
              "  Mode of Payment  Nature of Consignment  \n",
              "0            Cash                    Dox  \n",
              "1            Card                    Dox  \n",
              "2            Cash                Non-Dox  \n",
              "3            Card                Non-Dox  \n",
              "4            Cash                    Dox  \n",
              "\n",
              "[5 rows x 42 columns]"
            ],
            "text/html": [
              "\n",
              "  <div id=\"df-08cf9f26-555e-4445-b5b2-1c4391b462c6\" class=\"colab-df-container\">\n",
              "    <div>\n",
              "<style scoped>\n",
              "    .dataframe tbody tr th:only-of-type {\n",
              "        vertical-align: middle;\n",
              "    }\n",
              "\n",
              "    .dataframe tbody tr th {\n",
              "        vertical-align: top;\n",
              "    }\n",
              "\n",
              "    .dataframe thead th {\n",
              "        text-align: right;\n",
              "    }\n",
              "</style>\n",
              "<table border=\"1\" class=\"dataframe\">\n",
              "  <thead>\n",
              "    <tr style=\"text-align: right;\">\n",
              "      <th></th>\n",
              "      <th>Origin</th>\n",
              "      <th>Destination</th>\n",
              "      <th>Pouch No</th>\n",
              "      <th>Date</th>\n",
              "      <th>Sender's Name</th>\n",
              "      <th>Sender Phone</th>\n",
              "      <th>Sender Address</th>\n",
              "      <th>Sender City</th>\n",
              "      <th>Sender State</th>\n",
              "      <th>Sender Pincode</th>\n",
              "      <th>...</th>\n",
              "      <th>Company Stamp</th>\n",
              "      <th>Receiver Signature</th>\n",
              "      <th>Receive Date</th>\n",
              "      <th>Tariff</th>\n",
              "      <th>VAS Charges</th>\n",
              "      <th>Total Amount</th>\n",
              "      <th>Mode</th>\n",
              "      <th>Risk Surcharge</th>\n",
              "      <th>Mode of Payment</th>\n",
              "      <th>Nature of Consignment</th>\n",
              "    </tr>\n",
              "  </thead>\n",
              "  <tbody>\n",
              "    <tr>\n",
              "      <th>0</th>\n",
              "      <td>Nagpur</td>\n",
              "      <td>Jamshedpur</td>\n",
              "      <td>55e275ad-8da9-49c9-986c-93134fef2c19</td>\n",
              "      <td>2025-06-25</td>\n",
              "      <td>Megha Majumdar</td>\n",
              "      <td>6137840452</td>\n",
              "      <td>H.No. 425 Varughese Chowk, Above Shop, Nagpur,...</td>\n",
              "      <td>Nagpur</td>\n",
              "      <td>Maharashtra</td>\n",
              "      <td>264582</td>\n",
              "      <td>...</td>\n",
              "      <td>NaN</td>\n",
              "      <td>NaN</td>\n",
              "      <td>2025-06-30</td>\n",
              "      <td>147.22</td>\n",
              "      <td>70.09</td>\n",
              "      <td>217.31</td>\n",
              "      <td>Express</td>\n",
              "      <td>Carrier</td>\n",
              "      <td>Cash</td>\n",
              "      <td>Dox</td>\n",
              "    </tr>\n",
              "    <tr>\n",
              "      <th>1</th>\n",
              "      <td>Jaipur</td>\n",
              "      <td>Vizag</td>\n",
              "      <td>7fab4175-11b2-4090-a0ed-4571ccd68878</td>\n",
              "      <td>2025-06-27</td>\n",
              "      <td>Nanda-Saraf</td>\n",
              "      <td>52907142</td>\n",
              "      <td>48/880, Tripathi, Above Shop, Jaipur, Rajastha...</td>\n",
              "      <td>Jaipur</td>\n",
              "      <td>Rajasthan</td>\n",
              "      <td>200155</td>\n",
              "      <td>...</td>\n",
              "      <td>NaN</td>\n",
              "      <td>NaN</td>\n",
              "      <td>2025-06-28</td>\n",
              "      <td>256.83</td>\n",
              "      <td>82.20</td>\n",
              "      <td>339.03</td>\n",
              "      <td>Surface</td>\n",
              "      <td>Carrier</td>\n",
              "      <td>Card</td>\n",
              "      <td>Dox</td>\n",
              "    </tr>\n",
              "    <tr>\n",
              "      <th>2</th>\n",
              "      <td>Lucknow</td>\n",
              "      <td>Bhubaneswar</td>\n",
              "      <td>5231428d-b524-433e-8043-45c7e39a94aa</td>\n",
              "      <td>2025-06-27</td>\n",
              "      <td>Contractor LLC</td>\n",
              "      <td>5081512738</td>\n",
              "      <td>257, Kulkarni Path, Above Shop, Lucknow, Uttar...</td>\n",
              "      <td>Lucknow</td>\n",
              "      <td>Uttar Pradesh</td>\n",
              "      <td>353311</td>\n",
              "      <td>...</td>\n",
              "      <td>NaN</td>\n",
              "      <td>NaN</td>\n",
              "      <td>2025-06-28</td>\n",
              "      <td>432.45</td>\n",
              "      <td>107.63</td>\n",
              "      <td>540.08</td>\n",
              "      <td>Surface</td>\n",
              "      <td>Carrier</td>\n",
              "      <td>Cash</td>\n",
              "      <td>Non-Dox</td>\n",
              "    </tr>\n",
              "    <tr>\n",
              "      <th>3</th>\n",
              "      <td>Coimbatore</td>\n",
              "      <td>Mumbai</td>\n",
              "      <td>2f556b38-298d-4e8c-9310-4e6a3a5fbe61</td>\n",
              "      <td>2025-06-11</td>\n",
              "      <td>Krishna Hans</td>\n",
              "      <td>1518559754</td>\n",
              "      <td>83/17 Sridhar Zila, Above Shop, Coimbatore, Ta...</td>\n",
              "      <td>Coimbatore</td>\n",
              "      <td>Tamil Nadu</td>\n",
              "      <td>553663</td>\n",
              "      <td>...</td>\n",
              "      <td>NaN</td>\n",
              "      <td>NaN</td>\n",
              "      <td>2025-06-15</td>\n",
              "      <td>1162.00</td>\n",
              "      <td>25.23</td>\n",
              "      <td>1187.23</td>\n",
              "      <td>Express</td>\n",
              "      <td>Carrier</td>\n",
              "      <td>Card</td>\n",
              "      <td>Non-Dox</td>\n",
              "    </tr>\n",
              "    <tr>\n",
              "      <th>4</th>\n",
              "      <td>Meerut</td>\n",
              "      <td>Vijayawada</td>\n",
              "      <td>c3154041-34eb-435e-94d8-0900e6a9ed01</td>\n",
              "      <td>2025-07-01</td>\n",
              "      <td>Kuruvilla-Tiwari</td>\n",
              "      <td>1666398391</td>\n",
              "      <td>16/64 Jayaraman Circle, Above Shop, Meerut, Ut...</td>\n",
              "      <td>Meerut</td>\n",
              "      <td>Uttar Pradesh</td>\n",
              "      <td>273143</td>\n",
              "      <td>...</td>\n",
              "      <td>NaN</td>\n",
              "      <td>NaN</td>\n",
              "      <td>2025-07-05</td>\n",
              "      <td>285.55</td>\n",
              "      <td>67.70</td>\n",
              "      <td>353.25</td>\n",
              "      <td>Surface</td>\n",
              "      <td>Carrier</td>\n",
              "      <td>Cash</td>\n",
              "      <td>Dox</td>\n",
              "    </tr>\n",
              "  </tbody>\n",
              "</table>\n",
              "<p>5 rows × 42 columns</p>\n",
              "</div>\n",
              "    <div class=\"colab-df-buttons\">\n",
              "\n",
              "  <div class=\"colab-df-container\">\n",
              "    <button class=\"colab-df-convert\" onclick=\"convertToInteractive('df-08cf9f26-555e-4445-b5b2-1c4391b462c6')\"\n",
              "            title=\"Convert this dataframe to an interactive table.\"\n",
              "            style=\"display:none;\">\n",
              "\n",
              "  <svg xmlns=\"http://www.w3.org/2000/svg\" height=\"24px\" viewBox=\"0 -960 960 960\">\n",
              "    <path d=\"M120-120v-720h720v720H120Zm60-500h600v-160H180v160Zm220 220h160v-160H400v160Zm0 220h160v-160H400v160ZM180-400h160v-160H180v160Zm440 0h160v-160H620v160ZM180-180h160v-160H180v160Zm440 0h160v-160H620v160Z\"/>\n",
              "  </svg>\n",
              "    </button>\n",
              "\n",
              "  <style>\n",
              "    .colab-df-container {\n",
              "      display:flex;\n",
              "      gap: 12px;\n",
              "    }\n",
              "\n",
              "    .colab-df-convert {\n",
              "      background-color: #E8F0FE;\n",
              "      border: none;\n",
              "      border-radius: 50%;\n",
              "      cursor: pointer;\n",
              "      display: none;\n",
              "      fill: #1967D2;\n",
              "      height: 32px;\n",
              "      padding: 0 0 0 0;\n",
              "      width: 32px;\n",
              "    }\n",
              "\n",
              "    .colab-df-convert:hover {\n",
              "      background-color: #E2EBFA;\n",
              "      box-shadow: 0px 1px 2px rgba(60, 64, 67, 0.3), 0px 1px 3px 1px rgba(60, 64, 67, 0.15);\n",
              "      fill: #174EA6;\n",
              "    }\n",
              "\n",
              "    .colab-df-buttons div {\n",
              "      margin-bottom: 4px;\n",
              "    }\n",
              "\n",
              "    [theme=dark] .colab-df-convert {\n",
              "      background-color: #3B4455;\n",
              "      fill: #D2E3FC;\n",
              "    }\n",
              "\n",
              "    [theme=dark] .colab-df-convert:hover {\n",
              "      background-color: #434B5C;\n",
              "      box-shadow: 0px 1px 3px 1px rgba(0, 0, 0, 0.15);\n",
              "      filter: drop-shadow(0px 1px 2px rgba(0, 0, 0, 0.3));\n",
              "      fill: #FFFFFF;\n",
              "    }\n",
              "  </style>\n",
              "\n",
              "    <script>\n",
              "      const buttonEl =\n",
              "        document.querySelector('#df-08cf9f26-555e-4445-b5b2-1c4391b462c6 button.colab-df-convert');\n",
              "      buttonEl.style.display =\n",
              "        google.colab.kernel.accessAllowed ? 'block' : 'none';\n",
              "\n",
              "      async function convertToInteractive(key) {\n",
              "        const element = document.querySelector('#df-08cf9f26-555e-4445-b5b2-1c4391b462c6');\n",
              "        const dataTable =\n",
              "          await google.colab.kernel.invokeFunction('convertToInteractive',\n",
              "                                                    [key], {});\n",
              "        if (!dataTable) return;\n",
              "\n",
              "        const docLinkHtml = 'Like what you see? Visit the ' +\n",
              "          '<a target=\"_blank\" href=https://colab.research.google.com/notebooks/data_table.ipynb>data table notebook</a>'\n",
              "          + ' to learn more about interactive tables.';\n",
              "        element.innerHTML = '';\n",
              "        dataTable['output_type'] = 'display_data';\n",
              "        await google.colab.output.renderOutput(dataTable, element);\n",
              "        const docLink = document.createElement('div');\n",
              "        docLink.innerHTML = docLinkHtml;\n",
              "        element.appendChild(docLink);\n",
              "      }\n",
              "    </script>\n",
              "  </div>\n",
              "\n",
              "\n",
              "    <div id=\"df-48823be2-6fd9-490e-8227-c54a6a2c0a02\">\n",
              "      <button class=\"colab-df-quickchart\" onclick=\"quickchart('df-48823be2-6fd9-490e-8227-c54a6a2c0a02')\"\n",
              "                title=\"Suggest charts\"\n",
              "                style=\"display:none;\">\n",
              "\n",
              "<svg xmlns=\"http://www.w3.org/2000/svg\" height=\"24px\"viewBox=\"0 0 24 24\"\n",
              "     width=\"24px\">\n",
              "    <g>\n",
              "        <path d=\"M19 3H5c-1.1 0-2 .9-2 2v14c0 1.1.9 2 2 2h14c1.1 0 2-.9 2-2V5c0-1.1-.9-2-2-2zM9 17H7v-7h2v7zm4 0h-2V7h2v10zm4 0h-2v-4h2v4z\"/>\n",
              "    </g>\n",
              "</svg>\n",
              "      </button>\n",
              "\n",
              "<style>\n",
              "  .colab-df-quickchart {\n",
              "      --bg-color: #E8F0FE;\n",
              "      --fill-color: #1967D2;\n",
              "      --hover-bg-color: #E2EBFA;\n",
              "      --hover-fill-color: #174EA6;\n",
              "      --disabled-fill-color: #AAA;\n",
              "      --disabled-bg-color: #DDD;\n",
              "  }\n",
              "\n",
              "  [theme=dark] .colab-df-quickchart {\n",
              "      --bg-color: #3B4455;\n",
              "      --fill-color: #D2E3FC;\n",
              "      --hover-bg-color: #434B5C;\n",
              "      --hover-fill-color: #FFFFFF;\n",
              "      --disabled-bg-color: #3B4455;\n",
              "      --disabled-fill-color: #666;\n",
              "  }\n",
              "\n",
              "  .colab-df-quickchart {\n",
              "    background-color: var(--bg-color);\n",
              "    border: none;\n",
              "    border-radius: 50%;\n",
              "    cursor: pointer;\n",
              "    display: none;\n",
              "    fill: var(--fill-color);\n",
              "    height: 32px;\n",
              "    padding: 0;\n",
              "    width: 32px;\n",
              "  }\n",
              "\n",
              "  .colab-df-quickchart:hover {\n",
              "    background-color: var(--hover-bg-color);\n",
              "    box-shadow: 0 1px 2px rgba(60, 64, 67, 0.3), 0 1px 3px 1px rgba(60, 64, 67, 0.15);\n",
              "    fill: var(--button-hover-fill-color);\n",
              "  }\n",
              "\n",
              "  .colab-df-quickchart-complete:disabled,\n",
              "  .colab-df-quickchart-complete:disabled:hover {\n",
              "    background-color: var(--disabled-bg-color);\n",
              "    fill: var(--disabled-fill-color);\n",
              "    box-shadow: none;\n",
              "  }\n",
              "\n",
              "  .colab-df-spinner {\n",
              "    border: 2px solid var(--fill-color);\n",
              "    border-color: transparent;\n",
              "    border-bottom-color: var(--fill-color);\n",
              "    animation:\n",
              "      spin 1s steps(1) infinite;\n",
              "  }\n",
              "\n",
              "  @keyframes spin {\n",
              "    0% {\n",
              "      border-color: transparent;\n",
              "      border-bottom-color: var(--fill-color);\n",
              "      border-left-color: var(--fill-color);\n",
              "    }\n",
              "    20% {\n",
              "      border-color: transparent;\n",
              "      border-left-color: var(--fill-color);\n",
              "      border-top-color: var(--fill-color);\n",
              "    }\n",
              "    30% {\n",
              "      border-color: transparent;\n",
              "      border-left-color: var(--fill-color);\n",
              "      border-top-color: var(--fill-color);\n",
              "      border-right-color: var(--fill-color);\n",
              "    }\n",
              "    40% {\n",
              "      border-color: transparent;\n",
              "      border-right-color: var(--fill-color);\n",
              "      border-top-color: var(--fill-color);\n",
              "    }\n",
              "    60% {\n",
              "      border-color: transparent;\n",
              "      border-right-color: var(--fill-color);\n",
              "    }\n",
              "    80% {\n",
              "      border-color: transparent;\n",
              "      border-right-color: var(--fill-color);\n",
              "      border-bottom-color: var(--fill-color);\n",
              "    }\n",
              "    90% {\n",
              "      border-color: transparent;\n",
              "      border-bottom-color: var(--fill-color);\n",
              "    }\n",
              "  }\n",
              "</style>\n",
              "\n",
              "      <script>\n",
              "        async function quickchart(key) {\n",
              "          const quickchartButtonEl =\n",
              "            document.querySelector('#' + key + ' button');\n",
              "          quickchartButtonEl.disabled = true;  // To prevent multiple clicks.\n",
              "          quickchartButtonEl.classList.add('colab-df-spinner');\n",
              "          try {\n",
              "            const charts = await google.colab.kernel.invokeFunction(\n",
              "                'suggestCharts', [key], {});\n",
              "          } catch (error) {\n",
              "            console.error('Error during call to suggestCharts:', error);\n",
              "          }\n",
              "          quickchartButtonEl.classList.remove('colab-df-spinner');\n",
              "          quickchartButtonEl.classList.add('colab-df-quickchart-complete');\n",
              "        }\n",
              "        (() => {\n",
              "          let quickchartButtonEl =\n",
              "            document.querySelector('#df-48823be2-6fd9-490e-8227-c54a6a2c0a02 button');\n",
              "          quickchartButtonEl.style.display =\n",
              "            google.colab.kernel.accessAllowed ? 'block' : 'none';\n",
              "        })();\n",
              "      </script>\n",
              "    </div>\n",
              "\n",
              "    </div>\n",
              "  </div>\n"
            ],
            "application/vnd.google.colaboratory.intrinsic+json": {
              "type": "dataframe",
              "variable_name": "df"
            }
          },
          "metadata": {},
          "execution_count": 17
        }
      ]
    },
    {
      "cell_type": "code",
      "source": [
        "#shape\n",
        "df.shape"
      ],
      "metadata": {
        "colab": {
          "base_uri": "https://localhost:8080/"
        },
        "id": "Uez2RxdFqwyA",
        "outputId": "1ded812f-2ea1-4b5a-f041-13b379196348"
      },
      "execution_count": 18,
      "outputs": [
        {
          "output_type": "execute_result",
          "data": {
            "text/plain": [
              "(49639, 42)"
            ]
          },
          "metadata": {},
          "execution_count": 18
        }
      ]
    },
    {
      "cell_type": "markdown",
      "source": [
        "#***EDA(Explotary Data Analysis):-***"
      ],
      "metadata": {
        "id": "DadhJi_T2Bpi"
      }
    },
    {
      "cell_type": "code",
      "source": [
        "df.info()"
      ],
      "metadata": {
        "colab": {
          "base_uri": "https://localhost:8080/"
        },
        "id": "RZkat4iMqw09",
        "outputId": "2f652296-2218-40c9-9209-8ba1752a990a"
      },
      "execution_count": 19,
      "outputs": [
        {
          "output_type": "stream",
          "name": "stdout",
          "text": [
            "<class 'pandas.core.frame.DataFrame'>\n",
            "RangeIndex: 49639 entries, 0 to 49638\n",
            "Data columns (total 42 columns):\n",
            " #   Column                 Non-Null Count  Dtype  \n",
            "---  ------                 --------------  -----  \n",
            " 0   Origin                 49639 non-null  object \n",
            " 1   Destination            49639 non-null  object \n",
            " 2   Pouch No               49639 non-null  object \n",
            " 3   Date                   49639 non-null  object \n",
            " 4   Sender's Name          49639 non-null  object \n",
            " 5   Sender Phone           49639 non-null  int64  \n",
            " 6   Sender Address         49639 non-null  object \n",
            " 7   Sender City            49639 non-null  object \n",
            " 8   Sender State           49639 non-null  object \n",
            " 9   Sender Pincode         49639 non-null  int64  \n",
            " 10  Sender GSTIN           26778 non-null  object \n",
            " 11  Total Pieces           49639 non-null  int64  \n",
            " 12  Actual Wt              49639 non-null  float64\n",
            " 13  Volumetric Wt          49639 non-null  float64\n",
            " 14  Chargeable Wt          49639 non-null  float64\n",
            " 15  Paperwork              49639 non-null  object \n",
            " 16  Sender Signature       29811 non-null  object \n",
            " 17  Sender Date            49639 non-null  object \n",
            " 18  Recipient Name         49639 non-null  object \n",
            " 19  Recipient Phone        49639 non-null  int64  \n",
            " 20  Recipient Address      49639 non-null  object \n",
            " 21  Recipient City         49639 non-null  object \n",
            " 22  Receiver State         49639 non-null  object \n",
            " 23  Receiver Pincode       49639 non-null  int64  \n",
            " 24  Description            49639 non-null  object \n",
            " 25  Value Added Services   39399 non-null  object \n",
            " 26  Consignment No         49639 non-null  object \n",
            " 27  Expiry Date            49639 non-null  object \n",
            " 28  Booking Code           49639 non-null  object \n",
            " 29  Recipient GSTIN        13866 non-null  object \n",
            " 30  Receiver Name          49639 non-null  object \n",
            " 31  Relationship           49639 non-null  object \n",
            " 32  Company Stamp          19865 non-null  object \n",
            " 33  Receiver Signature     19865 non-null  object \n",
            " 34  Receive Date           49639 non-null  object \n",
            " 35  Tariff                 49639 non-null  float64\n",
            " 36  VAS Charges            49639 non-null  float64\n",
            " 37  Total Amount           49639 non-null  float64\n",
            " 38  Mode                   49639 non-null  object \n",
            " 39  Risk Surcharge         49639 non-null  object \n",
            " 40  Mode of Payment        49639 non-null  object \n",
            " 41  Nature of Consignment  49639 non-null  object \n",
            "dtypes: float64(6), int64(5), object(31)\n",
            "memory usage: 15.9+ MB\n"
          ]
        }
      ]
    },
    {
      "cell_type": "code",
      "source": [
        "#check duplicate column\n",
        "df.duplicated().sum()"
      ],
      "metadata": {
        "colab": {
          "base_uri": "https://localhost:8080/"
        },
        "id": "ANXwU7pdqw4g",
        "outputId": "af8695d8-b719-49ae-fb42-ebcba616c57e"
      },
      "execution_count": 20,
      "outputs": [
        {
          "output_type": "execute_result",
          "data": {
            "text/plain": [
              "np.int64(0)"
            ]
          },
          "metadata": {},
          "execution_count": 20
        }
      ]
    },
    {
      "cell_type": "code",
      "source": [
        "#check the null values\n",
        "df.isnull().sum()"
      ],
      "metadata": {
        "colab": {
          "base_uri": "https://localhost:8080/",
          "height": 1000
        },
        "id": "7C5nW4PUqw76",
        "outputId": "b1cf765c-524b-475a-936b-15ca832c2d83"
      },
      "execution_count": 21,
      "outputs": [
        {
          "output_type": "execute_result",
          "data": {
            "text/plain": [
              "Origin                       0\n",
              "Destination                  0\n",
              "Pouch No                     0\n",
              "Date                         0\n",
              "Sender's Name                0\n",
              "Sender Phone                 0\n",
              "Sender Address               0\n",
              "Sender City                  0\n",
              "Sender State                 0\n",
              "Sender Pincode               0\n",
              "Sender GSTIN             22861\n",
              "Total Pieces                 0\n",
              "Actual Wt                    0\n",
              "Volumetric Wt                0\n",
              "Chargeable Wt                0\n",
              "Paperwork                    0\n",
              "Sender Signature         19828\n",
              "Sender Date                  0\n",
              "Recipient Name               0\n",
              "Recipient Phone              0\n",
              "Recipient Address            0\n",
              "Recipient City               0\n",
              "Receiver State               0\n",
              "Receiver Pincode             0\n",
              "Description                  0\n",
              "Value Added Services     10240\n",
              "Consignment No               0\n",
              "Expiry Date                  0\n",
              "Booking Code                 0\n",
              "Recipient GSTIN          35773\n",
              "Receiver Name                0\n",
              "Relationship                 0\n",
              "Company Stamp            29774\n",
              "Receiver Signature       29774\n",
              "Receive Date                 0\n",
              "Tariff                       0\n",
              "VAS Charges                  0\n",
              "Total Amount                 0\n",
              "Mode                         0\n",
              "Risk Surcharge               0\n",
              "Mode of Payment              0\n",
              "Nature of Consignment        0\n",
              "dtype: int64"
            ],
            "text/html": [
              "<div>\n",
              "<style scoped>\n",
              "    .dataframe tbody tr th:only-of-type {\n",
              "        vertical-align: middle;\n",
              "    }\n",
              "\n",
              "    .dataframe tbody tr th {\n",
              "        vertical-align: top;\n",
              "    }\n",
              "\n",
              "    .dataframe thead th {\n",
              "        text-align: right;\n",
              "    }\n",
              "</style>\n",
              "<table border=\"1\" class=\"dataframe\">\n",
              "  <thead>\n",
              "    <tr style=\"text-align: right;\">\n",
              "      <th></th>\n",
              "      <th>0</th>\n",
              "    </tr>\n",
              "  </thead>\n",
              "  <tbody>\n",
              "    <tr>\n",
              "      <th>Origin</th>\n",
              "      <td>0</td>\n",
              "    </tr>\n",
              "    <tr>\n",
              "      <th>Destination</th>\n",
              "      <td>0</td>\n",
              "    </tr>\n",
              "    <tr>\n",
              "      <th>Pouch No</th>\n",
              "      <td>0</td>\n",
              "    </tr>\n",
              "    <tr>\n",
              "      <th>Date</th>\n",
              "      <td>0</td>\n",
              "    </tr>\n",
              "    <tr>\n",
              "      <th>Sender's Name</th>\n",
              "      <td>0</td>\n",
              "    </tr>\n",
              "    <tr>\n",
              "      <th>Sender Phone</th>\n",
              "      <td>0</td>\n",
              "    </tr>\n",
              "    <tr>\n",
              "      <th>Sender Address</th>\n",
              "      <td>0</td>\n",
              "    </tr>\n",
              "    <tr>\n",
              "      <th>Sender City</th>\n",
              "      <td>0</td>\n",
              "    </tr>\n",
              "    <tr>\n",
              "      <th>Sender State</th>\n",
              "      <td>0</td>\n",
              "    </tr>\n",
              "    <tr>\n",
              "      <th>Sender Pincode</th>\n",
              "      <td>0</td>\n",
              "    </tr>\n",
              "    <tr>\n",
              "      <th>Sender GSTIN</th>\n",
              "      <td>22861</td>\n",
              "    </tr>\n",
              "    <tr>\n",
              "      <th>Total Pieces</th>\n",
              "      <td>0</td>\n",
              "    </tr>\n",
              "    <tr>\n",
              "      <th>Actual Wt</th>\n",
              "      <td>0</td>\n",
              "    </tr>\n",
              "    <tr>\n",
              "      <th>Volumetric Wt</th>\n",
              "      <td>0</td>\n",
              "    </tr>\n",
              "    <tr>\n",
              "      <th>Chargeable Wt</th>\n",
              "      <td>0</td>\n",
              "    </tr>\n",
              "    <tr>\n",
              "      <th>Paperwork</th>\n",
              "      <td>0</td>\n",
              "    </tr>\n",
              "    <tr>\n",
              "      <th>Sender Signature</th>\n",
              "      <td>19828</td>\n",
              "    </tr>\n",
              "    <tr>\n",
              "      <th>Sender Date</th>\n",
              "      <td>0</td>\n",
              "    </tr>\n",
              "    <tr>\n",
              "      <th>Recipient Name</th>\n",
              "      <td>0</td>\n",
              "    </tr>\n",
              "    <tr>\n",
              "      <th>Recipient Phone</th>\n",
              "      <td>0</td>\n",
              "    </tr>\n",
              "    <tr>\n",
              "      <th>Recipient Address</th>\n",
              "      <td>0</td>\n",
              "    </tr>\n",
              "    <tr>\n",
              "      <th>Recipient City</th>\n",
              "      <td>0</td>\n",
              "    </tr>\n",
              "    <tr>\n",
              "      <th>Receiver State</th>\n",
              "      <td>0</td>\n",
              "    </tr>\n",
              "    <tr>\n",
              "      <th>Receiver Pincode</th>\n",
              "      <td>0</td>\n",
              "    </tr>\n",
              "    <tr>\n",
              "      <th>Description</th>\n",
              "      <td>0</td>\n",
              "    </tr>\n",
              "    <tr>\n",
              "      <th>Value Added Services</th>\n",
              "      <td>10240</td>\n",
              "    </tr>\n",
              "    <tr>\n",
              "      <th>Consignment No</th>\n",
              "      <td>0</td>\n",
              "    </tr>\n",
              "    <tr>\n",
              "      <th>Expiry Date</th>\n",
              "      <td>0</td>\n",
              "    </tr>\n",
              "    <tr>\n",
              "      <th>Booking Code</th>\n",
              "      <td>0</td>\n",
              "    </tr>\n",
              "    <tr>\n",
              "      <th>Recipient GSTIN</th>\n",
              "      <td>35773</td>\n",
              "    </tr>\n",
              "    <tr>\n",
              "      <th>Receiver Name</th>\n",
              "      <td>0</td>\n",
              "    </tr>\n",
              "    <tr>\n",
              "      <th>Relationship</th>\n",
              "      <td>0</td>\n",
              "    </tr>\n",
              "    <tr>\n",
              "      <th>Company Stamp</th>\n",
              "      <td>29774</td>\n",
              "    </tr>\n",
              "    <tr>\n",
              "      <th>Receiver Signature</th>\n",
              "      <td>29774</td>\n",
              "    </tr>\n",
              "    <tr>\n",
              "      <th>Receive Date</th>\n",
              "      <td>0</td>\n",
              "    </tr>\n",
              "    <tr>\n",
              "      <th>Tariff</th>\n",
              "      <td>0</td>\n",
              "    </tr>\n",
              "    <tr>\n",
              "      <th>VAS Charges</th>\n",
              "      <td>0</td>\n",
              "    </tr>\n",
              "    <tr>\n",
              "      <th>Total Amount</th>\n",
              "      <td>0</td>\n",
              "    </tr>\n",
              "    <tr>\n",
              "      <th>Mode</th>\n",
              "      <td>0</td>\n",
              "    </tr>\n",
              "    <tr>\n",
              "      <th>Risk Surcharge</th>\n",
              "      <td>0</td>\n",
              "    </tr>\n",
              "    <tr>\n",
              "      <th>Mode of Payment</th>\n",
              "      <td>0</td>\n",
              "    </tr>\n",
              "    <tr>\n",
              "      <th>Nature of Consignment</th>\n",
              "      <td>0</td>\n",
              "    </tr>\n",
              "  </tbody>\n",
              "</table>\n",
              "</div><br><label><b>dtype:</b> int64</label>"
            ]
          },
          "metadata": {},
          "execution_count": 21
        }
      ]
    },
    {
      "cell_type": "code",
      "source": [
        "#drop the null values columns\n",
        "df = df.dropna(axis=1)"
      ],
      "metadata": {
        "id": "FPlmwThTqw-9"
      },
      "execution_count": 22,
      "outputs": []
    },
    {
      "cell_type": "code",
      "source": [
        "df.columns"
      ],
      "metadata": {
        "colab": {
          "base_uri": "https://localhost:8080/"
        },
        "id": "1Pk4hf8sqxB4",
        "outputId": "303ed4b6-7d85-4fc3-bc2e-1bed8984ea23"
      },
      "execution_count": 23,
      "outputs": [
        {
          "output_type": "execute_result",
          "data": {
            "text/plain": [
              "Index(['Origin', 'Destination', 'Pouch No', 'Date', 'Sender's Name',\n",
              "       'Sender Phone', 'Sender Address', 'Sender City', 'Sender State',\n",
              "       'Sender Pincode', 'Total Pieces', 'Actual Wt', 'Volumetric Wt',\n",
              "       'Chargeable Wt', 'Paperwork', 'Sender Date', 'Recipient Name',\n",
              "       'Recipient Phone', 'Recipient Address', 'Recipient City',\n",
              "       'Receiver State', 'Receiver Pincode', 'Description', 'Consignment No',\n",
              "       'Expiry Date', 'Booking Code', 'Receiver Name', 'Relationship',\n",
              "       'Receive Date', 'Tariff', 'VAS Charges', 'Total Amount', 'Mode',\n",
              "       'Risk Surcharge', 'Mode of Payment', 'Nature of Consignment'],\n",
              "      dtype='object')"
            ]
          },
          "metadata": {},
          "execution_count": 23
        }
      ]
    },
    {
      "cell_type": "code",
      "source": [],
      "metadata": {
        "id": "7hR7w2S6FB-Z"
      },
      "execution_count": 23,
      "outputs": []
    },
    {
      "cell_type": "code",
      "source": [
        "# Drop columns with too many nulls or irrelevant info (like signatures, stamps, GSTINs)\n",
        "df = df.drop([\n",
        "    'Pouch No', 'Sender\\'s Name', 'Sender Phone', 'Sender Address','Date',\n",
        "    'Recipient Name', 'Recipient Phone', 'Recipient Address',\n",
        "    'Consignment No', 'Booking Code', 'Receiver Name',\n",
        "    'Sender Date', 'Receive Date', 'Expiry Date', 'Relationship'\n",
        "], axis=1)\n"
      ],
      "metadata": {
        "id": "7c80q432HO2J"
      },
      "execution_count": 24,
      "outputs": []
    },
    {
      "cell_type": "code",
      "source": [
        "#shape of dataset\n",
        "df.shape"
      ],
      "metadata": {
        "colab": {
          "base_uri": "https://localhost:8080/"
        },
        "id": "xH0Jc_A5w8Cd",
        "outputId": "0a15dcc6-3b40-4532-ded4-99f5ad03cb63"
      },
      "execution_count": 25,
      "outputs": [
        {
          "output_type": "execute_result",
          "data": {
            "text/plain": [
              "(49639, 21)"
            ]
          },
          "metadata": {},
          "execution_count": 25
        }
      ]
    },
    {
      "cell_type": "code",
      "source": [
        "df['Mode'].value_counts()"
      ],
      "metadata": {
        "colab": {
          "base_uri": "https://localhost:8080/",
          "height": 209
        },
        "id": "hAIxzgwq1cfA",
        "outputId": "c1300390-4204-4600-db76-b6bed501abd5"
      },
      "execution_count": 26,
      "outputs": [
        {
          "output_type": "execute_result",
          "data": {
            "text/plain": [
              "Mode\n",
              "Surface      29699\n",
              "Express       9994\n",
              "Air Cargo     9946\n",
              "Name: count, dtype: int64"
            ],
            "text/html": [
              "<div>\n",
              "<style scoped>\n",
              "    .dataframe tbody tr th:only-of-type {\n",
              "        vertical-align: middle;\n",
              "    }\n",
              "\n",
              "    .dataframe tbody tr th {\n",
              "        vertical-align: top;\n",
              "    }\n",
              "\n",
              "    .dataframe thead th {\n",
              "        text-align: right;\n",
              "    }\n",
              "</style>\n",
              "<table border=\"1\" class=\"dataframe\">\n",
              "  <thead>\n",
              "    <tr style=\"text-align: right;\">\n",
              "      <th></th>\n",
              "      <th>count</th>\n",
              "    </tr>\n",
              "    <tr>\n",
              "      <th>Mode</th>\n",
              "      <th></th>\n",
              "    </tr>\n",
              "  </thead>\n",
              "  <tbody>\n",
              "    <tr>\n",
              "      <th>Surface</th>\n",
              "      <td>29699</td>\n",
              "    </tr>\n",
              "    <tr>\n",
              "      <th>Express</th>\n",
              "      <td>9994</td>\n",
              "    </tr>\n",
              "    <tr>\n",
              "      <th>Air Cargo</th>\n",
              "      <td>9946</td>\n",
              "    </tr>\n",
              "  </tbody>\n",
              "</table>\n",
              "</div><br><label><b>dtype:</b> int64</label>"
            ]
          },
          "metadata": {},
          "execution_count": 26
        }
      ]
    },
    {
      "cell_type": "markdown",
      "source": [
        "#***Data Visualization:-***"
      ],
      "metadata": {
        "id": "yBQwRq2RVg-F"
      }
    },
    {
      "cell_type": "code",
      "source": [
        "# Set plot style\n",
        "sns.set(style=\"whitegrid\")\n",
        "plt.figure(figsize=(12, 6))\n",
        "\n",
        "# -----------------------------\n",
        "# 1. Shipments by Origin City\n",
        "# -----------------------------\n",
        "plt.figure(figsize=(12, 6))\n",
        "top_origins = df['Origin'].value_counts().head(10)\n",
        "sns.barplot(x=top_origins.index, y=top_origins.values, palette='Blues_d')\n",
        "plt.title(\"Top 10 Origin Cities for Shipments\")\n",
        "plt.xlabel(\"Origin City\")\n",
        "plt.ylabel(\"Number of Shipments\")\n",
        "plt.xticks(rotation=45)\n",
        "plt.tight_layout()\n",
        "plt.show()"
      ],
      "metadata": {
        "colab": {
          "base_uri": "https://localhost:8080/",
          "height": 619
        },
        "id": "_2bY8v1UVLsw",
        "outputId": "9663703f-4667-42c0-f807-974e7cdf57f7"
      },
      "execution_count": 27,
      "outputs": [
        {
          "output_type": "display_data",
          "data": {
            "text/plain": [
              "<Figure size 1200x600 with 0 Axes>"
            ]
          },
          "metadata": {}
        },
        {
          "output_type": "display_data",
          "data": {
            "text/plain": [
              "<Figure size 1200x600 with 1 Axes>"
            ],
            "image/png": "[encoded data removed]"
          },
          "metadata": {}
        }
      ]
    },
    {
      "cell_type": "code",
      "source": [
        "plt.figure(figsize=(8, 5))\n",
        "sns.countplot(data=df, x='Mode', palette='Set2')\n",
        "plt.title(\"Shipment Count by Mode\")\n",
        "plt.xlabel(\"Delivery Mode\")\n",
        "plt.ylabel(\"Count\")\n",
        "plt.tight_layout()\n",
        "plt.show()"
      ],
      "metadata": {
        "colab": {
          "base_uri": "https://localhost:8080/",
          "height": 501
        },
        "id": "sUdmBpNMVRHm",
        "outputId": "b2e8d392-641c-4a8e-c4af-512bad7a36e9"
      },
      "execution_count": 30,
      "outputs": [
        {
          "output_type": "display_data",
          "data": {
            "text/plain": [
              "<Figure size 800x500 with 1 Axes>"
            ],
            "image/png": "[encoded data removed]"
          },
          "metadata": {}
        }
      ]
    },
    {
      "cell_type": "code",
      "source": [
        "plt.figure(figsize=(10, 6))\n",
        "sns.barplot(data=df, x='Mode of Payment', y='Total Amount', estimator='mean', ci=None, palette='pastel')\n",
        "plt.title(\"Average Total Amount by Mode of Payment\")\n",
        "plt.xlabel(\"Mode of Payment\")\n",
        "plt.ylabel(\"Average Amount (₹)\")\n",
        "plt.xticks(rotation=45)\n",
        "plt.tight_layout()\n",
        "plt.show()"
      ],
      "metadata": {
        "colab": {
          "base_uri": "https://localhost:8080/",
          "height": 601
        },
        "id": "a9806NvqVWLO",
        "outputId": "59270517-b5f7-444b-8d13-50f4afbf306c"
      },
      "execution_count": 31,
      "outputs": [
        {
          "output_type": "display_data",
          "data": {
            "text/plain": [
              "<Figure size 1000x600 with 1 Axes>"
            ],
            "image/png": "[encoded data removed]"
          },
          "metadata": {}
        }
      ]
    },
    {
      "cell_type": "markdown",
      "source": [
        "#***Label Encoding:-***"
      ],
      "metadata": {
        "id": "7Ja-_NjxAbQf"
      }
    },
    {
      "cell_type": "code",
      "source": [
        "# Encode all categorical columns using LabelEncoder\n",
        "label_encoders = {}\n",
        "for col in df.columns:\n",
        "    if df[col].dtype == 'object':\n",
        "        le = LabelEncoder()\n",
        "        df[col] = le.fit_transform(df[col])\n",
        "        label_encoders[col] = le"
      ],
      "metadata": {
        "id": "WS6zRZ4Aw8Ff"
      },
      "execution_count": 28,
      "outputs": []
    },
    {
      "cell_type": "markdown",
      "source": [
        "#***Spliing the Dataset:-***"
      ],
      "metadata": {
        "id": "rb2tod3aMrbF"
      }
    },
    {
      "cell_type": "code",
      "source": [
        "target = 'Mode'\n",
        "\n",
        "# Features and label\n",
        "X = df.drop(columns=[target])\n",
        "y = df[target]\n",
        "\n",
        "# Split the data\n",
        "X_train, X_test, y_train, y_test = train_test_split(X, y, test_size=0.2, random_state=42)"
      ],
      "metadata": {
        "id": "JGBO23vnEyBh"
      },
      "execution_count": 29,
      "outputs": []
    },
    {
      "cell_type": "code",
      "source": [
        "# Initialize models\n",
        "models = {\n",
        "    'Logistic Regression': LogisticRegression(max_iter=1000),\n",
        "    'Decision Tree': DecisionTreeClassifier(),\n",
        "    'Random Forest': RandomForestClassifier(),\n",
        "    'Naive Bayes': GaussianNB(),\n",
        "    'Support Vector Machine': SVC(),\n",
        "    'K-Nearest Neighbors': KNeighborsClassifier()\n",
        "}"
      ],
      "metadata": {
        "id": "NGU2ftqvEyE7"
      },
      "execution_count": 34,
      "outputs": []
    },
    {
      "cell_type": "code",
      "source": [
        "# Train and evaluate models\n",
        "print(\"Model Accuracies (%):\")\n",
        "for name, model in models.items():\n",
        "    model.fit(X_train, y_train)\n",
        "    y_pred = model.predict(X_test)\n",
        "    accuracy = accuracy_score(y_test, y_pred) * 100\n",
        "    print(f\"{name}: {accuracy:.2f}%\")"
      ],
      "metadata": {
        "id": "ZVROTxumEyIM",
        "colab": {
          "base_uri": "https://localhost:8080/"
        },
        "outputId": "831f72df-259f-4d10-9a7f-4de57d9215fd"
      },
      "execution_count": 35,
      "outputs": [
        {
          "output_type": "stream",
          "name": "stdout",
          "text": [
            "Model Accuracies (%):\n",
            "Logistic Regression: 65.58%\n",
            "Decision Tree: 99.67%\n",
            "Random Forest: 99.18%\n",
            "Naive Bayes: 66.91%\n",
            "Support Vector Machine: 59.72%\n",
            "K-Nearest Neighbors: 47.56%\n"
          ]
        }
      ]
    },
    {
      "cell_type": "code",
      "source": [
        "# Accuracy data (as provided)\n",
        "model_names = ['Logistic Regression', 'Decision Tree', 'Random Forest',\n",
        "               'Naive Bayes', 'Support Vector Machine', 'K-Nearest Neighbors']\n",
        "accuracies = [59.72, 99.63, 98.40, 59.72, 59.72, 47.27]\n",
        "\n",
        "# Plot\n",
        "plt.figure(figsize=(10, 6))\n",
        "sns.barplot(x=model_names, y=accuracies, palette='coolwarm')\n",
        "plt.title('Model Accuracies on DTDC Courier Dataset')\n",
        "plt.xlabel('Machine Learning Model')\n",
        "plt.ylabel('Accuracy (%)')\n",
        "plt.ylim(0, 110)\n",
        "plt.xticks(rotation=30)\n",
        "plt.grid(axis='y', linestyle='--', alpha=0.7)\n",
        "plt.tight_layout()\n",
        "plt.show()"
      ],
      "metadata": {
        "id": "vEBbVwhzEyLL",
        "colab": {
          "base_uri": "https://localhost:8080/",
          "height": 601
        },
        "outputId": "232fbcac-0a57-4173-d368-35a184f69998"
      },
      "execution_count": 36,
      "outputs": [
        {
          "output_type": "display_data",
          "data": {
            "text/plain": [
              "<Figure size 1000x600 with 1 Axes>"
            ],
            "image/png": "[encoded data removed]"
          },
          "metadata": {}
        }
      ]
    },
    {
      "cell_type": "code",
      "source": [],
      "metadata": {
        "id": "avtjosXdEyOn"
      },
      "execution_count": 29,
      "outputs": []
    },
    {
      "cell_type": "code",
      "source": [],
      "metadata": {
        "id": "CYBtRuiVEySt"
      },
      "execution_count": 29,
      "outputs": []
    },
    {
      "cell_type": "code",
      "source": [],
      "metadata": {
        "id": "NvF_tzzzqxEC"
      },
      "execution_count": 29,
      "outputs": []
    }
  ]
}